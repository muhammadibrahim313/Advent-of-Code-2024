{
  "cells": [
    {
      "cell_type": "markdown",
      "source": [
        "# **Before ruuning the code update the path**"
      ],
      "metadata": {
        "id": "eySSbqnpPfXP"
      }
    },
    {
      "cell_type": "markdown",
      "source": [
        "# Day 2: Red-Nosed Reports\n",
        "\n",
        "### Problem Statement\n",
        "\n",
        "You are tasked with analyzing data from the Red-Nosed reactor. Each line of the input data is a \"report\" consisting of levels represented as numbers separated by spaces. A report is considered **safe** if it satisfies **both** of the following rules:\n",
        "\n",
        "1. The levels are either **all increasing** or **all decreasing**.\n",
        "2. Any two adjacent levels differ by at least **1** and at most **3**.\n",
        "\n",
        "### Example Input\n",
        "\n"
      ],
      "metadata": {
        "id": "qBBFUnbRw9CC"
      }
    },
    {
      "cell_type": "markdown",
      "source": [
        "\n",
        "### Safety Analysis\n",
        "\n",
        "- **Safe Reports:**\n",
        "  - `7 6 4 2 1`: Levels are decreasing by 1 or 2.\n",
        "  - `1 3 6 7 9`: Levels are increasing by 1, 2, or 3.\n",
        "\n",
        "- **Unsafe Reports:**\n",
        "  - `1 2 7 8 9`: Increase of 5 between `2` and `7`.\n",
        "  - `9 7 6 2 1`: Decrease of 4 between `6` and `2`.\n",
        "  - `1 3 2 4 5`: Both increasing and decreasing transitions exist.\n",
        "  - `8 6 4 4 1`: Contains a level that neither increases nor decreases (`4 4`).\n",
        "\n",
        "**In this example, 2 reports are safe.**\n",
        "\n"
      ],
      "metadata": {
        "id": "y4JdnlqrxLvx"
      }
    },
    {
      "cell_type": "code",
      "source": [
        "def is_report_safe(report):\n",
        "    \"\"\"\n",
        "    Determine if a report is safe based on two criteria:\n",
        "    1. Levels are either all increasing or all decreasing\n",
        "    2. Adjacent levels differ by at least 1 and at most 3\n",
        "    \"\"\"\n",
        "    levels = list(map(int, report.split()))\n",
        "    if not levels:\n",
        "        return False\n",
        "    is_increasing = all(levels[i+1] > levels[i] for i in range(len(levels) - 1))\n",
        "    is_decreasing = all(levels[i] > levels[i+1] for i in range(len(levels) - 1))\n",
        "    if not (is_increasing or is_decreasing):\n",
        "        return False\n",
        "    for i in range(len(levels) - 1):\n",
        "        diff = abs(levels[i+1] - levels[i])\n",
        "        if diff < 1 or diff > 3:\n",
        "            return False\n",
        "    return True\n",
        "\n",
        "def analyze_safety_reports(input_data):\n",
        "    \"\"\"\n",
        "    Analyze the safety of all reports in the input data\n",
        "    \"\"\"\n",
        "    reports = input_data.strip().split('\\n')\n",
        "\n",
        "    safe_reports = sum(1 for report in reports if is_report_safe(report))\n",
        "\n",
        "    return safe_reports\n",
        "try:\n",
        "    with open('/content/Input.txt', 'r') as file:\n",
        "        input_data = file.read()\n",
        "    safe_report_count = analyze_safety_reports(input_data)\n",
        "    print(f\"Number of safe reports: {safe_report_count}\")\n",
        "except FileNotFoundError:\n",
        "    print(\"Error: The file '/content/Input.txt' was not found.\")\n",
        "\n",
        "\n"
      ],
      "metadata": {
        "id": "JJH04Faq7j_5",
        "outputId": "13954c60-d156-40b5-e636-b07f9d696488",
        "colab": {
          "base_uri": "https://localhost:8080/"
        }
      },
      "execution_count": null,
      "outputs": [
        {
          "output_type": "stream",
          "name": "stdout",
          "text": [
            "Number of safe reports: 442\n"
          ]
        }
      ]
    },
    {
      "cell_type": "markdown",
      "source": [
        "##  Part Two\n",
        "\n",
        "The engineers are surprised by the low number of safe reports until they realize they forgot to tell you about the Problem Dampener.\n",
        "\n",
        "The Problem Dampener is a reactor-mounted module that lets the reactor safety systems tolerate a single bad level in what would otherwise be a safe report. It's like the bad level never happened!\n",
        "\n",
        "Now, the same rules apply as before, except if removing a single level from an unsafe report would make it safe, the report instead counts as safe.\n",
        "\n",
        "### Example Update:\n",
        "\n",
        "More of the above example's reports are now safe:\n",
        "\n",
        "1. **7 6 4 2 1**: Safe without removing any level.\n",
        "2. **1 2 7 8 9**: Unsafe regardless of which level is removed.\n",
        "3. **9 7 6 2 1**: Unsafe regardless of which level is removed.\n",
        "4. **1 3 2 4 5**: Safe by removing the second level, 3.\n",
        "5. **8 6 4 4 1**: Safe by removing the third level, 4.\n",
        "6. **1 3 6 7 9**: Safe without removing any level.\n",
        "\n",
        "Thanks to the Problem Dampener, 4 reports are actually safe!"
      ],
      "metadata": {
        "id": "1UQU-9PW-QPw"
      }
    },
    {
      "cell_type": "code",
      "source": [
        "def is_report_safe(report):\n",
        "    \"\"\"\n",
        "    Check if the report is safe based on the two conditions:\n",
        "    1. The levels are either strictly increasing or strictly decreasing.\n",
        "    2. The difference between adjacent levels is between 1 and 3.\n",
        "    \"\"\"\n",
        "    levels = list(map(int, report.split()))\n",
        "    is_increasing = all(levels[i+1] > levels[i] for i in range(len(levels) - 1))\n",
        "    is_decreasing = all(levels[i] > levels[i+1] for i in range(len(levels) - 1))\n",
        "    if not (is_increasing or is_decreasing):\n",
        "        return False\n",
        "\n",
        "    for i in range(len(levels) - 1):\n",
        "        diff = abs(levels[i+1] - levels[i])\n",
        "        if diff < 1 or diff > 3:\n",
        "            return False\n",
        "\n",
        "    return True\n",
        "\n",
        "def is_report_safe_with_dampener(report):\n",
        "    \"\"\"\n",
        "    Check if the report can be made safe with the Problem Dampener\n",
        "    (by removing at most one level).\n",
        "    \"\"\"\n",
        "    levels = list(map(int, report.split()))\n",
        "    if is_report_safe(report):\n",
        "        return True\n",
        "    for i in range(len(levels)):\n",
        "        modified_report = levels[:i] + levels[i+1:]\n",
        "        if is_report_safe(' '.join(map(str, modified_report))):\n",
        "            return True\n",
        "    return False\n",
        "\n",
        "def analyze_safety_reports(input_data, with_dampener=False):\n",
        "    \"\"\"\n",
        "    Analyze the safety of all reports in the input data.\n",
        "    If with_dampener is True, consider reports that can be made safe by removing one level.\n",
        "    \"\"\"\n",
        "    reports = input_data.strip().split('\\n')\n",
        "    if with_dampener:\n",
        "        safe_reports = sum(1 for report in reports if is_report_safe_with_dampener(report))\n",
        "    else:\n",
        "        safe_reports = sum(1 for report in reports if is_report_safe(report))\n",
        "    return safe_reports\n",
        "try:\n",
        "    with open('/content/Input.txt', 'r') as file:\n",
        "        input_data = file.read()\n",
        "    safe_report_count_part1 = analyze_safety_reports(input_data, with_dampener=False)\n",
        "    print(f\"Number of safe reports (Part 1): {safe_report_count_part1}\")\n",
        "    safe_report_count_part2 = analyze_safety_reports(input_data, with_dampener=True)\n",
        "    print(f\"Number of safe reports (Part 2): {safe_report_count_part2}\")\n",
        "except FileNotFoundError:\n",
        "    print(\"Error: The file '/content/Input.txt' was not found.\")\n"
      ],
      "metadata": {
        "id": "WE6hWE5o77I4",
        "outputId": "0aeeca54-6618-4cbc-eea0-161c758570cc",
        "colab": {
          "base_uri": "https://localhost:8080/"
        }
      },
      "execution_count": null,
      "outputs": [
        {
          "output_type": "stream",
          "name": "stdout",
          "text": [
            "Number of safe reports (Part 1): 442\n",
            "Number of safe reports (Part 2): 493\n"
          ]
        }
      ]
    }
  ],
  "metadata": {
    "colab": {
      "provenance": []
    },
    "kernelspec": {
      "display_name": "Python 3",
      "name": "python3"
    }
  },
  "nbformat": 4,
  "nbformat_minor": 0
}