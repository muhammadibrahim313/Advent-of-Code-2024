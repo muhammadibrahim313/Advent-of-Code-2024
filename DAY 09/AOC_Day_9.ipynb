{
  "nbformat": 4,
  "nbformat_minor": 0,
  "metadata": {
    "colab": {
      "provenance": []
    },
    "kernelspec": {
      "name": "python3",
      "display_name": "Python 3"
    },
    "language_info": {
      "name": "python"
    }
  },
  "cells": [
    {
      "cell_type": "markdown",
      "source": [
        "# **Day : 9 || Disk Fragmenter**\n",
        "\n",
        "## part 1"
      ],
      "metadata": {
        "id": "vXMwEW129WPu"
      }
    },
    {
      "cell_type": "code",
      "execution_count": 3,
      "metadata": {
        "colab": {
          "base_uri": "https://localhost:8080/"
        },
        "id": "e3HTRlRausCG",
        "outputId": "0b84a706-d489-4db6-af0a-e74d576eb3fb"
      },
      "outputs": [
        {
          "output_type": "stream",
          "name": "stdout",
          "text": [
            "6382875730645\n"
          ]
        }
      ],
      "source": [
        "filename = \"input.txt\"\n",
        "\n",
        "data = open(filename).read().strip().split(\"\\n\")\n",
        "\n",
        "sequence = data[0]\n",
        "configurations = []\n",
        "arrangement = []\n",
        "current_file = 0\n",
        "for index, character in enumerate(sequence):\n",
        "    block_length = int(character)\n",
        "    if index % 2 == 0:\n",
        "        arrangement.extend([str(current_file)] * block_length)\n",
        "        current_file += 1\n",
        "    else:\n",
        "        arrangement.extend([\".\"] * block_length)\n",
        "\n",
        "while True:\n",
        "    try:\n",
        "        empty_position = arrangement.index(\".\")\n",
        "    except ValueError:\n",
        "        break\n",
        "\n",
        "    right_side_empty = any(ch != \".\" for ch in arrangement[empty_position + 1 :])\n",
        "    if not right_side_empty:\n",
        "        break\n",
        "\n",
        "    for reverse_index in range(len(arrangement) - 1, -1, -1):\n",
        "        if arrangement[reverse_index] != \".\":\n",
        "            arrangement[empty_position], arrangement[reverse_index] = arrangement[reverse_index], \".\"\n",
        "            break\n",
        "\n",
        "total_score = 0\n",
        "for index, file_marker in enumerate(arrangement):\n",
        "    if file_marker != \".\":\n",
        "        total_score += index * int(file_marker)\n",
        "\n",
        "print(total_score)"
      ]
    },
    {
      "cell_type": "markdown",
      "source": [
        "## Part 2"
      ],
      "metadata": {
        "id": "1G_Pwyit9md-"
      }
    },
    {
      "cell_type": "code",
      "source": [
        "filename = \"input.txt\"\n",
        "data = open(filename).read().strip().split(\"\\n\")\n",
        "\n",
        "sequence = data[0]\n",
        "file_configurations = []\n",
        "arrangement = []\n",
        "current_file = 0\n",
        "for index, character in enumerate(sequence):\n",
        "    block_length = int(character)\n",
        "    if index % 2 == 0:\n",
        "        arrangement.extend([str(current_file)] * block_length)\n",
        "        current_file += 1\n",
        "    else:\n",
        "        arrangement.extend([\".\"] * block_length)\n",
        "\n",
        "file_locations = {}\n",
        "current_file_id = None\n",
        "current_count = 0\n",
        "for index, file_marker in enumerate(arrangement):\n",
        "    if file_marker != \".\":\n",
        "        file_id = int(file_marker)\n",
        "        if file_id != current_file_id:\n",
        "            current_file_id = file_id\n",
        "            current_count = 1\n",
        "            file_locations[file_id] = [index, 1]\n",
        "        else:\n",
        "            current_count += 1\n",
        "            file_locations[file_id][1] = current_count\n",
        "\n",
        "maximum_file_identifier = max(file_locations.keys())\n",
        "\n",
        "\n",
        "def locate_empty_span(arrangement, file_start, file_length):\n",
        "    if file_start == 0:\n",
        "        return None\n",
        "    best_span_start = None\n",
        "    current_span_start = None\n",
        "    current_span_count = 0\n",
        "    for i in range(file_start):\n",
        "        if arrangement[i] == \".\":\n",
        "            if current_span_start is None:\n",
        "                current_span_start = i\n",
        "                current_span_count = 1\n",
        "            else:\n",
        "                current_span_count += 1\n",
        "        else:\n",
        "            if current_span_count >= file_length:\n",
        "                return current_span_start\n",
        "            current_span_start = None\n",
        "            current_span_count = 0\n",
        "    if current_span_start is not None and current_span_count >= file_length:\n",
        "        return current_span_start\n",
        "    return None\n",
        "\n",
        "\n",
        "for file_id in sorted(file_locations.keys(), reverse=True):\n",
        "    start_position, length = file_locations[file_id]\n",
        "    empty_span_start = locate_empty_span(arrangement, start_position, length)\n",
        "    if empty_span_start is not None:\n",
        "        for i in range(start_position, start_position + length):\n",
        "            arrangement[i] = \".\"\n",
        "        for i in range(empty_span_start, empty_span_start + length):\n",
        "            arrangement[i] = str(file_id)\n",
        "        file_locations[file_id][0] = empty_span_start\n",
        "\n",
        "total_score = 0\n",
        "for index, file_marker in enumerate(arrangement):\n",
        "    if file_marker != \".\":\n",
        "        total_score += index * int(file_marker)\n",
        "\n",
        "print(total_score)"
      ],
      "metadata": {
        "colab": {
          "base_uri": "https://localhost:8080/"
        },
        "id": "-GKyWTmdyw1k",
        "outputId": "87e0a007-11a5-4410-a65a-ff2a45b7dbbf"
      },
      "execution_count": 5,
      "outputs": [
        {
          "output_type": "stream",
          "name": "stdout",
          "text": [
            "6420913943576\n"
          ]
        }
      ]
    }
  ]
}