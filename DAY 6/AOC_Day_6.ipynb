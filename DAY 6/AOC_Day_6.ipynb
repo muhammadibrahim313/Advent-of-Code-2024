{
  "nbformat": 4,
  "nbformat_minor": 0,
  "metadata": {
    "colab": {
      "provenance": []
    },
    "kernelspec": {
      "name": "python3",
      "display_name": "Python 3"
    },
    "language_info": {
      "name": "python"
    }
  },
  "cells": [
    {
      "cell_type": "markdown",
      "source": [
        "#  **Day 6: Guard Gallivant**"
      ],
      "metadata": {
        "id": "8oQXw40ZUjSH"
      }
    },
    {
      "cell_type": "markdown",
      "source": [
        "**Part 1**"
      ],
      "metadata": {
        "id": "PRPauwt6UpLY"
      }
    },
    {
      "cell_type": "code",
      "execution_count": 6,
      "metadata": {
        "id": "Rl_8TwZjT5k4",
        "colab": {
          "base_uri": "https://localhost:8080/"
        },
        "outputId": "2614002d-67eb-4e58-ea23-9edc86890587"
      },
      "outputs": [
        {
          "output_type": "stream",
          "name": "stdout",
          "text": [
            "Number of distinct positions visited: 5239\n"
          ]
        }
      ],
      "source": [
        "def parse_map(file_path):\n",
        "    \"\"\"Parse the input map to extract the grid and initial guard position.\"\"\"\n",
        "    with open(file_path, 'r') as file:\n",
        "        lines = file.read().strip().splitlines()\n",
        "\n",
        "    grid = [list(line) for line in lines]\n",
        "    guard_position = None\n",
        "    guard_direction = None\n",
        "\n",
        "    # Directions represented as (dy, dx): up, right, down, left\n",
        "    directions = {\n",
        "        '^': (-1, 0),\n",
        "        '>': (0, 1),\n",
        "        'v': (1, 0),\n",
        "        '<': (0, -1)\n",
        "    }\n",
        "\n",
        "    # Find the initial guard position and direction\n",
        "    for y, row in enumerate(grid):\n",
        "        for x, cell in enumerate(row):\n",
        "            if cell in directions:\n",
        "                guard_position = (y, x)\n",
        "                guard_direction = directions[cell]\n",
        "                grid[y][x] = '.'  # Replace the guard's symbol with empty space\n",
        "                break\n",
        "        if guard_position:\n",
        "            break\n",
        "\n",
        "    return grid, guard_position, guard_direction\n",
        "\n",
        "def turn_right(direction):\n",
        "    \"\"\"Turn the direction 90 degrees to the right.\"\"\"\n",
        "    # Directions represented as (dy, dx): up, right, down, left\n",
        "    directions = [(-1, 0), (0, 1), (1, 0), (0, -1)]  # Up, Right, Down, Left\n",
        "    current_index = directions.index(direction)\n",
        "    return directions[(current_index + 1) % 4]\n",
        "\n",
        "def simulate_guard(grid, start_position, start_direction):\n",
        "    \"\"\"Simulate the guard's patrol and count distinct positions visited.\"\"\"\n",
        "    rows, cols = len(grid), len(grid[0])\n",
        "    visited_positions = set()\n",
        "\n",
        "    # Starting position\n",
        "    y, x = start_position\n",
        "    direction = start_direction\n",
        "    visited_positions.add((y, x))\n",
        "\n",
        "    while True:\n",
        "        # Calculate the next position\n",
        "        dy, dx = direction\n",
        "        ny, nx = y + dy, x + dx\n",
        "\n",
        "        # Check if the next position is within bounds\n",
        "        if 0 <= ny < rows and 0 <= nx < cols:\n",
        "            if grid[ny][nx] == '#':\n",
        "                # Obstacle ahead, turn right\n",
        "                direction = turn_right(direction)\n",
        "            else:\n",
        "                # Move forward\n",
        "                y, x = ny, nx\n",
        "                visited_positions.add((y, x))\n",
        "        else:\n",
        "            # Out of bounds, stop the simulation\n",
        "            break\n",
        "\n",
        "    return len(visited_positions)\n",
        "\n",
        "# Main logic\n",
        "file_path = 'data.txt'\n",
        "grid, guard_position, guard_direction = parse_map(file_path)\n",
        "result = simulate_guard(grid, guard_position, guard_direction)\n",
        "print(\"Number of distinct positions visited:\", result)\n"
      ]
    },
    {
      "cell_type": "markdown",
      "source": [
        "**Part 2**"
      ],
      "metadata": {
        "id": "iq7u6bVqUruA"
      }
    },
    {
      "cell_type": "code",
      "source": [
        "def parse_map(file_path):\n",
        "    \"\"\"Parse the input map to extract the grid and initial guard position.\"\"\"\n",
        "    with open(file_path, 'r') as file:\n",
        "        lines = file.read().strip().splitlines()\n",
        "\n",
        "    grid = [list(line) for line in lines]\n",
        "    guard_position = None\n",
        "    guard_direction = None\n",
        "\n",
        "    # Directions represented as (dy, dx): up, right, down, left\n",
        "    directions = {\n",
        "        '^': (-1, 0),\n",
        "        '>': (0, 1),\n",
        "        'v': (1, 0),\n",
        "        '<': (0, -1)\n",
        "    }\n",
        "\n",
        "    # Find the initial guard position and direction\n",
        "    for y, row in enumerate(grid):\n",
        "        for x, cell in enumerate(row):\n",
        "            if cell in directions:\n",
        "                guard_position = (y, x)\n",
        "                guard_direction = directions[cell]\n",
        "                grid[y][x] = '.'  # Replace the guard's symbol with empty space\n",
        "                break\n",
        "        if guard_position:\n",
        "            break\n",
        "\n",
        "    return grid, guard_position, guard_direction\n",
        "\n",
        "\n",
        "def turn_right(direction):\n",
        "    \"\"\"Turn the direction 90 degrees to the right.\"\"\"\n",
        "    directions = [(-1, 0), (0, 1), (1, 0), (0, -1)]  # Up, Right, Down, Left\n",
        "    current_index = directions.index(direction)\n",
        "    return directions[(current_index + 1) % 4]\n",
        "\n",
        "\n",
        "def simulate_guard(grid, start_position, start_direction):\n",
        "    \"\"\"Simulate the guard's patrol and detect loops.\"\"\"\n",
        "    rows, cols = len(grid), len(grid[0])\n",
        "    visited = set()\n",
        "    path = set()\n",
        "\n",
        "    y, x = start_position\n",
        "    direction = start_direction\n",
        "    visited.add((y, x, direction))\n",
        "\n",
        "    while True:\n",
        "        dy, dx = direction\n",
        "        ny, nx = y + dy, x + dx\n",
        "\n",
        "        # Check if next position is within bounds\n",
        "        if 0 <= ny < rows and 0 <= nx < cols:\n",
        "            if grid[ny][nx] == '#':\n",
        "                # Obstacle ahead, turn right\n",
        "                direction = turn_right(direction)\n",
        "            else:\n",
        "                # Move forward\n",
        "                y, x = ny, nx\n",
        "                state = (y, x, direction)\n",
        "                if state in visited:\n",
        "                    # Loop detected\n",
        "                    return True\n",
        "                visited.add(state)\n",
        "        else:\n",
        "            # Out of bounds, no loop\n",
        "            return False\n",
        "\n",
        "\n",
        "def find_loop_positions(grid, guard_position, guard_direction):\n",
        "    \"\"\"Find all positions where adding an obstruction causes a loop.\"\"\"\n",
        "    rows, cols = len(grid), len(grid[0])\n",
        "    loop_positions = set()\n",
        "\n",
        "    # Test each empty position\n",
        "    for y in range(rows):\n",
        "        for x in range(cols):\n",
        "            if (y, x) != guard_position and grid[y][x] == '.':\n",
        "                # Temporarily add obstruction\n",
        "                grid[y][x] = '#'\n",
        "                if simulate_guard(grid, guard_position, guard_direction):\n",
        "                    loop_positions.add((y, x))\n",
        "                # Remove obstruction\n",
        "                grid[y][x] = '.'\n",
        "\n",
        "    return loop_positions\n",
        "\n",
        "\n",
        "# Main logic\n",
        "file_path = 'data.txt'\n",
        "grid, guard_position, guard_direction = parse_map(file_path)\n",
        "loop_positions = find_loop_positions(grid, guard_position, guard_direction)\n",
        "print(\"Number of positions that create a loop:\", len(loop_positions))\n"
      ],
      "metadata": {
        "colab": {
          "base_uri": "https://localhost:8080/"
        },
        "id": "Lu-pDBBFsBZ-",
        "outputId": "b2725498-af59-4645-fe2a-9e778615cd13"
      },
      "execution_count": 7,
      "outputs": [
        {
          "output_type": "stream",
          "name": "stdout",
          "text": [
            "Number of positions that create a loop: 1753\n"
          ]
        }
      ]
    }
  ]
}