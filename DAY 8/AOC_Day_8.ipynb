{
  "nbformat": 4,
  "nbformat_minor": 0,
  "metadata": {
    "colab": {
      "provenance": []
    },
    "kernelspec": {
      "name": "python3",
      "display_name": "Python 3"
    },
    "language_info": {
      "name": "python"
    }
  },
  "cells": [
    {
      "cell_type": "markdown",
      "source": [
        "# **Day 8: Resonant Collinearity**"
      ],
      "metadata": {
        "id": "lWjeZJRMv33i"
      }
    },
    {
      "cell_type": "code",
      "source": [
        "#part 1\n",
        "\n",
        "def find_unique_antinodes_from_file(file_path):\n",
        "    from collections import defaultdict\n",
        "\n",
        "    # Step 1: Read the input file and parse the grid\n",
        "    with open(file_path, 'r') as file:\n",
        "        grid = [line.strip() for line in file.readlines()]\n",
        "\n",
        "    # Parse grid to collect antenna positions by frequency\n",
        "    antenna_positions = defaultdict(list)\n",
        "    rows = len(grid)\n",
        "    cols = len(grid[0])\n",
        "\n",
        "    for r in range(rows):\n",
        "        for c in range(cols):\n",
        "            char = grid[r][c]\n",
        "            if char.isalnum():  # Antennas are letters or digits\n",
        "                antenna_positions[char].append((r, c))\n",
        "\n",
        "    # Step 2: Find antinodes for each frequency\n",
        "    unique_antinodes = set()\n",
        "\n",
        "    for freq, positions in antenna_positions.items():\n",
        "        n = len(positions)\n",
        "        if n < 2:\n",
        "            continue  # No antinodes possible with fewer than 2 antennas\n",
        "\n",
        "        for i in range(n):\n",
        "            for j in range(i + 1, n):\n",
        "                r1, c1 = positions[i]\n",
        "                r2, c2 = positions[j]\n",
        "\n",
        "                # Compute differences\n",
        "                dr = r2 - r1\n",
        "                dc = c2 - c1\n",
        "\n",
        "                # First antinode (closer to r1, c1)\n",
        "                r_antin1, c_antin1 = r1 - dr, c1 - dc\n",
        "                # Second antinode (further from r2, c2)\n",
        "                r_antin2, c_antin2 = r2 + dr, c2 + dc\n",
        "\n",
        "                # Add valid antinodes within bounds\n",
        "                if 0 <= r_antin1 < rows and 0 <= c_antin1 < cols:\n",
        "                    unique_antinodes.add((r_antin1, c_antin1))\n",
        "                if 0 <= r_antin2 < rows and 0 <= c_antin2 < cols:\n",
        "                    unique_antinodes.add((r_antin2, c_antin2))\n",
        "\n",
        "    # Step 3: Return the count of unique antinodes\n",
        "    return len(unique_antinodes)\n",
        "\n",
        "# Path to the input file\n",
        "file_path = 'input.txt'\n",
        "\n",
        "# Call the function and print the result\n",
        "unique_count = find_unique_antinodes_from_file(file_path)\n",
        "print(f\"Number of unique antinode locations: {unique_count}\")"
      ],
      "metadata": {
        "colab": {
          "base_uri": "https://localhost:8080/"
        },
        "id": "i0qQWdQBpo9L",
        "outputId": "9371cf6f-8909-4f88-9d0d-bfc75a464191"
      },
      "execution_count": 6,
      "outputs": [
        {
          "output_type": "stream",
          "name": "stdout",
          "text": [
            "Number of unique antinode locations: 276\n"
          ]
        }
      ]
    },
    {
      "cell_type": "code",
      "source": [
        "#part 2\n",
        "\n",
        "def find_all_antinodes(file_path):\n",
        "    from collections import defaultdict\n",
        "\n",
        "    # Step 1: Read the input file and parse the grid\n",
        "    with open(file_path, 'r') as file:\n",
        "        grid = [line.strip() for line in file.readlines()]\n",
        "\n",
        "    # Parse grid to collect antenna positions by frequency\n",
        "    antenna_positions = defaultdict(list)\n",
        "    rows = len(grid)\n",
        "    cols = len(grid[0])\n",
        "\n",
        "    for r in range(rows):\n",
        "        for c in range(cols):\n",
        "            char = grid[r][c]\n",
        "            if char.isalnum():  # Antennas are letters or digits\n",
        "                antenna_positions[char].append((r, c))\n",
        "\n",
        "    # Step 2: Find all antinodes for each frequency\n",
        "    unique_antinodes = set()\n",
        "\n",
        "    for freq, positions in antenna_positions.items():\n",
        "        n = len(positions)\n",
        "        if n < 2:\n",
        "            continue  # No antinodes possible with fewer than 2 antennas\n",
        "\n",
        "        # Add all antenna positions as antinodes\n",
        "        unique_antinodes.update(positions)\n",
        "\n",
        "        for i in range(n):\n",
        "            for j in range(i + 1, n):\n",
        "                r1, c1 = positions[i]\n",
        "                r2, c2 = positions[j]\n",
        "\n",
        "                # Compute direction vector\n",
        "                dr = r2 - r1\n",
        "                dc = c2 - c1\n",
        "\n",
        "                # Generate all points along the line\n",
        "                for k in range(-max(rows, cols), max(rows, cols) + 1):\n",
        "                    r_antin = r1 + k * dr\n",
        "                    c_antin = c1 + k * dc\n",
        "\n",
        "                    # Add valid antinodes within bounds\n",
        "                    if 0 <= r_antin < rows and 0 <= c_antin < cols:\n",
        "                        unique_antinodes.add((r_antin, c_antin))\n",
        "\n",
        "    # Step 3: Return the count of unique antinodes\n",
        "    return len(unique_antinodes)\n",
        "\n",
        "# Path to the input file\n",
        "file_path = 'input.txt'\n",
        "\n",
        "# Call the function and print the result\n",
        "unique_count = find_all_antinodes(file_path)\n",
        "print(f\"Number of unique antinode locations: {unique_count}\")\n"
      ],
      "metadata": {
        "colab": {
          "base_uri": "https://localhost:8080/"
        },
        "id": "8yjWAvMmqJpe",
        "outputId": "0622c40b-f77e-4959-a0bb-c649ebf65181"
      },
      "execution_count": 7,
      "outputs": [
        {
          "output_type": "stream",
          "name": "stdout",
          "text": [
            "Number of unique antinode locations: 991\n"
          ]
        }
      ]
    }
  ]
}