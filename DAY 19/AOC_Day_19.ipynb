{
  "nbformat": 4,
  "nbformat_minor": 0,
  "metadata": {
    "colab": {
      "provenance": []
    },
    "kernelspec": {
      "name": "python3",
      "display_name": "Python 3"
    },
    "language_info": {
      "name": "python"
    }
  },
  "cells": [
    {
      "cell_type": "markdown",
      "source": [
        "# **Day 19: Linen Layout**"
      ],
      "metadata": {
        "id": "rrcTHpgOUawr"
      }
    },
    {
      "cell_type": "code",
      "execution_count": 1,
      "metadata": {
        "colab": {
          "base_uri": "https://localhost:8080/"
        },
        "id": "aMcKt3eFN1fW",
        "outputId": "9d597507-3e8b-4fc1-acfc-24d4ee5bc44e"
      },
      "outputs": [
        {
          "output_type": "stream",
          "name": "stdout",
          "text": [
            "Number of possible designs: 269\n"
          ]
        }
      ],
      "source": [
        "def count_possible_designs(input_file):\n",
        "    with open(input_file, 'r') as file:\n",
        "        lines = file.read().strip().split('\\n')\n",
        "\n",
        "    # First line contains the available towel patterns\n",
        "    towel_patterns = lines[0].split(', ')\n",
        "    towel_set = set(towel_patterns)\n",
        "\n",
        "    # Remaining lines after the blank line are the desired designs\n",
        "    designs = lines[2:]\n",
        "\n",
        "    def is_design_possible(design):\n",
        "        # Use dynamic programming to check if the design can be formed\n",
        "        dp = [False] * (len(design) + 1)\n",
        "        dp[0] = True  # Base case: empty design is always possible\n",
        "\n",
        "        for i in range(1, len(design) + 1):\n",
        "            for pattern in towel_set:\n",
        "                if dp[i - len(pattern)] and design[i - len(pattern):i] == pattern:\n",
        "                    dp[i] = True\n",
        "                    break\n",
        "        return dp[-1]\n",
        "\n",
        "    # Count possible designs\n",
        "    possible_count = sum(1 for design in designs if is_design_possible(design))\n",
        "    return possible_count\n",
        "\n",
        "# Example usage\n",
        "input_file = 'input.txt'\n",
        "result = count_possible_designs(input_file)\n",
        "print(f\"Number of possible designs: {result}\")\n"
      ]
    },
    {
      "cell_type": "code",
      "source": [
        "def count_towel_arrangements(input_file):\n",
        "    with open(input_file, 'r') as file:\n",
        "        lines = file.read().strip().split('\\n')\n",
        "\n",
        "    # First line contains the available towel patterns\n",
        "    towel_patterns = lines[0].split(', ')\n",
        "    towel_set = set(towel_patterns)\n",
        "\n",
        "    # Remaining lines after the blank line are the desired designs\n",
        "    designs = lines[2:]\n",
        "\n",
        "    def count_ways_to_form_design(design):\n",
        "        # Use dynamic programming to count arrangements\n",
        "        dp = [0] * (len(design) + 1)\n",
        "        dp[0] = 1  # Base case: 1 way to form an empty design\n",
        "\n",
        "        for i in range(1, len(design) + 1):\n",
        "            for pattern in towel_set:\n",
        "                if i >= len(pattern) and design[i - len(pattern):i] == pattern:\n",
        "                    dp[i] += dp[i - len(pattern)]\n",
        "\n",
        "        return dp[-1]\n",
        "\n",
        "    # Sum up the number of arrangements for all designs\n",
        "    total_arrangements = sum(count_ways_to_form_design(design) for design in designs)\n",
        "    return total_arrangements\n",
        "\n",
        "# Example usage\n",
        "input_file = 'input.txt'\n",
        "result = count_towel_arrangements(input_file)\n",
        "print(f\"Total number of ways to arrange the designs: {result}\")\n"
      ],
      "metadata": {
        "colab": {
          "base_uri": "https://localhost:8080/"
        },
        "id": "CMRLY74TS0lB",
        "outputId": "036912f4-3663-4450-c859-701b119b96ae"
      },
      "execution_count": 2,
      "outputs": [
        {
          "output_type": "stream",
          "name": "stdout",
          "text": [
            "Total number of ways to arrange the designs: 758839075658876\n"
          ]
        }
      ]
    }
  ]
}