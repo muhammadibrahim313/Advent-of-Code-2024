{
  "nbformat": 4,
  "nbformat_minor": 0,
  "metadata": {
    "colab": {
      "provenance": []
    },
    "kernelspec": {
      "name": "python3",
      "display_name": "Python 3"
    },
    "language_info": {
      "name": "python"
    }
  },
  "cells": [
    {
      "cell_type": "markdown",
      "source": [
        "# **Day 22: Monkey Market**"
      ],
      "metadata": {
        "id": "1GGlSIMRxN1e"
      }
    },
    {
      "cell_type": "code",
      "execution_count": 1,
      "metadata": {
        "colab": {
          "base_uri": "https://localhost:8080/"
        },
        "id": "PlwLI1R9nSMf",
        "outputId": "fed300c8-e20b-4d73-ca60-69e479e65dfd"
      },
      "outputs": [
        {
          "output_type": "stream",
          "name": "stdout",
          "text": [
            "Sum of the 2000th secret numbers: 12759339434\n"
          ]
        }
      ],
      "source": [
        "# Define the function to compute the 2000th secret number for a given initial secret\n",
        "def calculate_2000th_secret(initial_secret):\n",
        "    MODULO = 16777216  # Modulo value for pruning\n",
        "    secret = initial_secret\n",
        "\n",
        "    # Generate the sequence up to the 2000th secret number\n",
        "    for _ in range(2000):\n",
        "        secret = (secret ^ (secret * 64)) % MODULO\n",
        "        secret = (secret ^ (secret // 32)) % MODULO\n",
        "        secret = (secret ^ (secret * 2048)) % MODULO\n",
        "\n",
        "    return secret\n",
        "\n",
        "# Main function to process the input file and calculate the result\n",
        "def monkey_market_sum(filename=\"input.txt\"):\n",
        "    with open(filename, \"r\") as file:\n",
        "        initial_secrets = [int(line.strip()) for line in file.readlines()]\n",
        "\n",
        "    # Calculate the sum of the 2000th secret numbers\n",
        "    result_sum = sum(calculate_2000th_secret(secret) for secret in initial_secrets)\n",
        "\n",
        "    return result_sum\n",
        "\n",
        "# Run the program and output the result\n",
        "if __name__ == \"__main__\":\n",
        "    output = monkey_market_sum(\"input.txt\")\n",
        "    print(f\"Sum of the 2000th secret numbers: {output}\")\n"
      ]
    },
    {
      "cell_type": "code",
      "source": [
        "\n",
        "def generate_next_secret(secret_number):\n",
        "    secret_number ^= (secret_number * 64) % 16777216\n",
        "    secret_number %= 16777216\n",
        "    secret_number ^= (secret_number // 32) % 16777216\n",
        "    secret_number %= 16777216\n",
        "    secret_number ^= (secret_number * 2048) % 16777216\n",
        "    secret_number %= 16777216\n",
        "    return secret_number\n",
        "\n",
        "def get_price_sequence(initial_secret):\n",
        "    # Generate all prices at once\n",
        "    prices = []\n",
        "    secret = initial_secret\n",
        "    for _ in range(2001):  # We need 2001 to get 2000 changes\n",
        "        prices.append(secret % 10)\n",
        "        secret = generate_next_secret(secret)\n",
        "    return prices\n",
        "\n",
        "def find_sequences(prices):\n",
        "    # Create a dictionary to store where each sequence appears and its corresponding price\n",
        "    sequences = {}\n",
        "    changes = []\n",
        "\n",
        "    # Calculate all changes\n",
        "    for i in range(1, len(prices)):\n",
        "        changes.append(prices[i] - prices[i-1])\n",
        "\n",
        "    # For each position, record the 4-change sequence that starts there\n",
        "    for i in range(len(changes) - 3):\n",
        "        seq = tuple(changes[i:i+4])  # Convert to tuple so it can be used as dict key\n",
        "        if seq not in sequences:  # Only keep the first occurrence\n",
        "            sequences[seq] = prices[i+4]\n",
        "\n",
        "    return sequences\n",
        "\n",
        "def main():\n",
        "    with open(\"input.txt\", \"r\") as file:\n",
        "        initial_secrets = [int(line.strip()) for line in file.readlines()]\n",
        "\n",
        "    # Pre-calculate all sequences for each buyer\n",
        "    buyer_sequences = []\n",
        "    for secret in initial_secrets:\n",
        "        prices = get_price_sequence(secret)\n",
        "        sequences = find_sequences(prices)\n",
        "        buyer_sequences.append(sequences)\n",
        "\n",
        "    # Find the sequence that appears in most buyers with highest total\n",
        "    best_total = 0\n",
        "    best_sequence = None\n",
        "\n",
        "    # Get all unique sequences that appear in any buyer's data\n",
        "    all_sequences = set()\n",
        "    for sequences in buyer_sequences:\n",
        "        all_sequences.update(sequences.keys())\n",
        "\n",
        "    # Check each sequence that actually appears in the data\n",
        "    for seq in all_sequences:\n",
        "        total = sum(sequences.get(seq, 0) for sequences in buyer_sequences)\n",
        "        if total > best_total:\n",
        "            best_total = total\n",
        "            best_sequence = seq\n",
        "\n",
        "    print(f\"Best sequence: {list(best_sequence)}\")\n",
        "    print(f\"Maximum bananas: {best_total}\")\n",
        "\n",
        "if __name__ == \"__main__\":\n",
        "    main()\n"
      ],
      "metadata": {
        "colab": {
          "base_uri": "https://localhost:8080/"
        },
        "id": "rwM9Pt9ovgdo",
        "outputId": "dc4a8cd2-934d-4324-f5f4-06c56ad1fdc6"
      },
      "execution_count": 3,
      "outputs": [
        {
          "output_type": "stream",
          "name": "stdout",
          "text": [
            "Best sequence: [2, -1, -1, 2]\n",
            "Maximum bananas: 1405\n"
          ]
        }
      ]
    }
  ]
}