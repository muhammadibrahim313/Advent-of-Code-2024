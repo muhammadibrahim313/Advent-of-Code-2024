{
  "nbformat": 4,
  "nbformat_minor": 0,
  "metadata": {
    "colab": {
      "provenance": []
    },
    "kernelspec": {
      "name": "python3",
      "display_name": "Python 3"
    },
    "language_info": {
      "name": "python"
    }
  },
  "cells": [
    {
      "cell_type": "markdown",
      "source": [
        "# **Day 18: RAM Run**"
      ],
      "metadata": {
        "id": "8VmR5T8IKZR1"
      }
    },
    {
      "cell_type": "code",
      "execution_count": 1,
      "metadata": {
        "colab": {
          "base_uri": "https://localhost:8080/"
        },
        "id": "oTX0FMYHGwT8",
        "outputId": "79b0d15f-49a2-406e-a3c0-e7c5491fe37a"
      },
      "outputs": [
        {
          "output_type": "stream",
          "name": "stdout",
          "text": [
            "The minimum number of steps to reach the exit is: 248\n"
          ]
        }
      ],
      "source": [
        "#Part # 1\n",
        "\n",
        "from collections import deque\n",
        "\n",
        "# Read the input file\n",
        "with open(\"input.txt\", \"r\") as file:\n",
        "    lines = file.readlines()\n",
        "\n",
        "# Parse the falling byte positions\n",
        "falling_bytes = [tuple(map(int, line.strip().split(','))) for line in lines]\n",
        "\n",
        "# Initialize grid dimensions\n",
        "GRID_SIZE = 71  # 0 to 70 inclusive\n",
        "grid = [[0] * GRID_SIZE for _ in range(GRID_SIZE)]  # 0 for safe, 1 for corrupted\n",
        "\n",
        "# Simulate the first 1024 bytes falling\n",
        "for i in range(min(1024, len(falling_bytes))):\n",
        "    x, y = falling_bytes[i]\n",
        "    grid[y][x] = 1  # Mark corrupted\n",
        "\n",
        "# BFS to find the shortest path\n",
        "def bfs(grid, start, end):\n",
        "    queue = deque([(*start, 0)])  # (x, y, steps)\n",
        "    visited = set()\n",
        "    visited.add(start)\n",
        "    directions = [(-1, 0), (1, 0), (0, -1), (0, 1)]  # Up, Down, Left, Right\n",
        "\n",
        "    while queue:\n",
        "        x, y, steps = queue.popleft()\n",
        "        if (x, y) == end:\n",
        "            return steps\n",
        "        for dx, dy in directions:\n",
        "            nx, ny = x + dx, y + dy\n",
        "            if 0 <= nx < GRID_SIZE and 0 <= ny < GRID_SIZE and (nx, ny) not in visited and grid[ny][nx] == 0:\n",
        "                visited.add((nx, ny))\n",
        "                queue.append((nx, ny, steps + 1))\n",
        "    return -1  # No path found\n",
        "\n",
        "# Start and end points\n",
        "start = (0, 0)\n",
        "end = (70, 70)\n",
        "\n",
        "# Find and print the minimum steps\n",
        "min_steps = bfs(grid, start, end)\n",
        "if min_steps != -1:\n",
        "    print(f\"The minimum number of steps to reach the exit is: {min_steps}\")\n",
        "else:\n",
        "    print(\"No path to the exit exists.\")\n"
      ]
    },
    {
      "cell_type": "code",
      "source": [
        "# Part # 2\n",
        "\n",
        "from collections import deque\n",
        "\n",
        "# Read the input file\n",
        "with open(\"input.txt\", \"r\") as file:\n",
        "    lines = file.readlines()\n",
        "\n",
        "# Parse the falling byte positions\n",
        "falling_bytes = [tuple(map(int, line.strip().split(','))) for line in lines]\n",
        "\n",
        "# Initialize grid dimensions\n",
        "GRID_SIZE = 71  # 0 to 70 inclusive\n",
        "grid = [[0] * GRID_SIZE for _ in range(GRID_SIZE)]  # 0 for safe, 1 for corrupted\n",
        "\n",
        "# BFS to check if a path exists\n",
        "def bfs(grid, start, end):\n",
        "    queue = deque([start])  # (x, y)\n",
        "    visited = set()\n",
        "    visited.add(start)\n",
        "    directions = [(-1, 0), (1, 0), (0, -1), (0, 1)]  # Up, Down, Left, Right\n",
        "\n",
        "    while queue:\n",
        "        x, y = queue.popleft()\n",
        "        if (x, y) == end:\n",
        "            return True\n",
        "        for dx, dy in directions:\n",
        "            nx, ny = x + dx, y + dy\n",
        "            if 0 <= nx < GRID_SIZE and 0 <= ny < GRID_SIZE and (nx, ny) not in visited and grid[ny][nx] == 0:\n",
        "                visited.add((nx, ny))\n",
        "                queue.append((nx, ny))\n",
        "    return False  # No path found\n",
        "\n",
        "# Simulate falling bytes and find the blocking byte\n",
        "start = (0, 0)\n",
        "end = (70, 70)\n",
        "\n",
        "for i, (x, y) in enumerate(falling_bytes):\n",
        "    grid[y][x] = 1  # Mark the byte as corrupted\n",
        "    if not bfs(grid, start, end):  # Check if the path is blocked\n",
        "        print(f\"{x},{y}\")\n",
        "        break\n"
      ],
      "metadata": {
        "colab": {
          "base_uri": "https://localhost:8080/"
        },
        "id": "KyhpuGBdJRQq",
        "outputId": "09f91422-bc34-42ed-d26b-8fa09b47d99a"
      },
      "execution_count": 2,
      "outputs": [
        {
          "output_type": "stream",
          "name": "stdout",
          "text": [
            "32,55\n"
          ]
        }
      ]
    }
  ]
}