{
  "nbformat": 4,
  "nbformat_minor": 0,
  "metadata": {
    "colab": {
      "provenance": []
    },
    "kernelspec": {
      "name": "python3",
      "display_name": "Python 3"
    },
    "language_info": {
      "name": "python"
    }
  },
  "cells": [
    {
      "cell_type": "markdown",
      "source": [
        "# **Day 13: Claw Contraption**"
      ],
      "metadata": {
        "id": "-mS8ryiFc76v"
      }
    },
    {
      "cell_type": "code",
      "execution_count": 1,
      "metadata": {
        "colab": {
          "base_uri": "https://localhost:8080/"
        },
        "id": "8ZHqt7XvTDfp",
        "outputId": "940347a2-2cf6-4f68-a1b6-afecd75ee32e"
      },
      "outputs": [
        {
          "output_type": "stream",
          "name": "stdout",
          "text": [
            "Prizes Won: 157\n",
            "Minimum Tokens Spent: 31065\n"
          ]
        }
      ],
      "source": [
        "import math\n",
        "\n",
        "def parse_input(file_path):\n",
        "    with open(file_path, \"r\") as file:\n",
        "        data = file.read().strip().split(\"\\n\\n\")\n",
        "\n",
        "    machines = []\n",
        "    for block in data:\n",
        "        lines = block.split(\"\\n\")\n",
        "        button_a = tuple(map(int, lines[0].split(\"X+\")[1].split(\", Y+\")))\n",
        "        button_b = tuple(map(int, lines[1].split(\"X+\")[1].split(\", Y+\")))\n",
        "        prize = tuple(map(int, lines[2].split(\"X=\")[1].split(\", Y=\")))\n",
        "        machines.append((button_a, button_b, prize))\n",
        "\n",
        "    return machines\n",
        "\n",
        "def solve_claw_machine(button_a, button_b, prize):\n",
        "    a, c = button_a\n",
        "    b, d = button_b\n",
        "    X, Y = prize\n",
        "\n",
        "    min_cost = float('inf')\n",
        "    best_na, best_nb = None, None\n",
        "\n",
        "    # Iterate over possible n_A values\n",
        "    for n_A in range(101):\n",
        "        rem_x = X - n_A * a\n",
        "        rem_y = Y - n_A * c\n",
        "\n",
        "        if rem_x % b == 0 and rem_y % d == 0:\n",
        "            n_B_x = rem_x // b\n",
        "            n_B_y = rem_y // d\n",
        "\n",
        "            if n_B_x == n_B_y and n_B_x >= 0:\n",
        "                cost = 3 * n_A + n_B_x\n",
        "                if cost < min_cost:\n",
        "                    min_cost = cost\n",
        "                    best_na, best_nb = n_A, n_B_x\n",
        "\n",
        "    return min_cost if best_na is not None else None\n",
        "\n",
        "def main(file_path):\n",
        "    machines = parse_input(file_path)\n",
        "    total_cost = 0\n",
        "    prizes_won = 0\n",
        "\n",
        "    for button_a, button_b, prize in machines:\n",
        "        result = solve_claw_machine(button_a, button_b, prize)\n",
        "        if result is not None:\n",
        "            total_cost += result\n",
        "            prizes_won += 1\n",
        "\n",
        "    print(f\"Prizes Won: {prizes_won}\")\n",
        "    print(f\"Minimum Tokens Spent: {total_cost}\")\n",
        "\n",
        "# Example usage\n",
        "main(\"input.txt\")\n",
        "\n"
      ]
    },
    {
      "cell_type": "code",
      "source": [
        "def extended_gcd(a, b):\n",
        "    if a == 0:\n",
        "        return b, 0, 1\n",
        "    gcd, x1, y1 = extended_gcd(b % a, a)\n",
        "    x = y1 - (b // a) * x1\n",
        "    y = x1\n",
        "    return gcd, x, y\n",
        "\n",
        "def find_solution(a1, a2, b1, b2, target_x, target_y):\n",
        "    print(f\"\\nSolving for equations:\")\n",
        "    print(f\"{a1}A + {b1}B = {target_x}\")\n",
        "    print(f\"{a2}A + {b2}B = {target_y}\")\n",
        "\n",
        "    # Calculate determinant\n",
        "    det = a1 * b2 - a2 * b1\n",
        "\n",
        "    if det == 0:\n",
        "        print(\"No solution - equations are dependent\")\n",
        "        return None\n",
        "\n",
        "    # Using Cramer's rule\n",
        "    n = (target_x * b2 - target_y * b1) / det\n",
        "    m = (a1 * target_y - a2 * target_x) / det\n",
        "\n",
        "    # Check if solution is integer and non-negative\n",
        "    if n != int(n) or m != int(m) or n < 0 or m < 0:\n",
        "        print(f\"No valid solution: A={n}, B={m}\")\n",
        "        return None\n",
        "\n",
        "    n = int(n)\n",
        "    m = int(m)\n",
        "\n",
        "    # Verify solution\n",
        "    if (a1 * n + b1 * m == target_x) and (a2 * n + b2 * m == target_y):\n",
        "        print(f\"Found solution: A={n}, B={m}\")\n",
        "        return (n, m)\n",
        "\n",
        "    return None\n",
        "\n",
        "def solve_claw_machines_part2(input_data):\n",
        "    total_tokens = 0\n",
        "    possible_prizes = 0\n",
        "    OFFSET = 10000000000000\n",
        "\n",
        "    lines = input_data.strip().split('\\n')\n",
        "\n",
        "    for i in range(0, len(lines), 4):\n",
        "        if i + 2 >= len(lines):\n",
        "            break\n",
        "\n",
        "        print(f\"\\nProcessing Machine {i//4 + 1}\")\n",
        "\n",
        "        # Parse input\n",
        "        a_line = lines[i].strip()\n",
        "        ax = int(a_line[a_line.find('X+')+2:a_line.find(',')])\n",
        "        ay = int(a_line[a_line.find('Y+')+2:])\n",
        "\n",
        "        b_line = lines[i+1].strip()\n",
        "        bx = int(b_line[b_line.find('X+')+2:b_line.find(',')])\n",
        "        by = int(b_line[b_line.find('Y+')+2:])\n",
        "\n",
        "        p_line = lines[i+2].strip()\n",
        "        px = int(p_line[p_line.find('X=')+2:p_line.find(',')]) + OFFSET\n",
        "        py = int(p_line[p_line.find('Y=')+2:]) + OFFSET\n",
        "\n",
        "        print(f\"Button A: X+{ax}, Y+{ay}\")\n",
        "        print(f\"Button B: X+{bx}, Y+{by}\")\n",
        "        print(f\"Prize: X={px}, Y={py}\")\n",
        "\n",
        "        # Find solution\n",
        "        solution = find_solution(ax, ay, bx, by, px, py)\n",
        "\n",
        "        if solution:\n",
        "            n, m = solution\n",
        "            tokens = 3 * n + m\n",
        "            total_tokens += tokens\n",
        "            possible_prizes += 1\n",
        "            print(f\"Solution found for Machine {i//4 + 1}:\")\n",
        "            print(f\"Button A presses: {n}\")\n",
        "            print(f\"Button B presses: {m}\")\n",
        "            print(f\"Tokens needed: {tokens}\")\n",
        "        else:\n",
        "            print(f\"No solution found for Machine {i//4 + 1}\")\n",
        "\n",
        "    return total_tokens, possible_prizes\n",
        "\n",
        "# Sample input\n",
        "sample_input = \"\"\"\n",
        "\n",
        "\n",
        "\n",
        "\"\"\"\n",
        "\n",
        "# Run with sample input\n",
        "print(\"Running with sample input:\")\n",
        "total_tokens, possible_prizes = solve_claw_machines_part2(sample_input)\n",
        "print(\"\\nFinal Results:\")\n",
        "print(f\"Total possible prizes: {possible_prizes}\")\n",
        "print(f\"Total tokens needed: {total_tokens}\")"
      ],
      "metadata": {
        "colab": {
          "base_uri": "https://localhost:8080/"
        },
        "id": "Kwt0DwVGbcpK",
        "outputId": "0fe46c77-fd1d-4aac-fd6a-340a366adc01"
      },
      "execution_count": 12,
      "outputs": [
        {
          "output_type": "stream",
          "name": "stdout",
          "text": [
            "Prizes Won: 0\n",
            "Minimum Tokens Spent: 0\n"
          ]
        }
      ]
    }
  ]
}