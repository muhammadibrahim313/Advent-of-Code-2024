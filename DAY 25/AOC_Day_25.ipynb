{
  "nbformat": 4,
  "nbformat_minor": 0,
  "metadata": {
    "colab": {
      "provenance": []
    },
    "kernelspec": {
      "name": "python3",
      "display_name": "Python 3"
    },
    "language_info": {
      "name": "python"
    }
  },
  "cells": [
    {
      "cell_type": "markdown",
      "source": [
        "# **Day 25: Code Chronicle**"
      ],
      "metadata": {
        "id": "niei8_NJNUvm"
      }
    },
    {
      "cell_type": "code",
      "execution_count": 1,
      "metadata": {
        "colab": {
          "base_uri": "https://localhost:8080/"
        },
        "id": "Pdy0eUxbK0PA",
        "outputId": "4bdf5efa-4432-4a0d-8713-613b717b2013"
      },
      "outputs": [
        {
          "output_type": "stream",
          "name": "stdout",
          "text": [
            "Number of unique lock/key pairs that fit: 3619\n"
          ]
        }
      ],
      "source": [
        "def parse_schematic(lines):\n",
        "    # Get the width of the schematic\n",
        "    width = len(lines[0])\n",
        "    heights = []\n",
        "\n",
        "    # For each column\n",
        "    for col in range(width):\n",
        "        # Find height by counting from appropriate direction\n",
        "        height = 0\n",
        "        # For locks (filled from top), count empty spaces from top\n",
        "        if lines[0][col] == '#':\n",
        "            for row in range(len(lines)):\n",
        "                if lines[row][col] == '#':\n",
        "                    height += 1\n",
        "            heights.append(height)\n",
        "        # For keys (filled from bottom), count filled spaces from bottom\n",
        "        else:\n",
        "            for row in range(len(lines)-1, -1, -1):\n",
        "                if lines[row][col] == '#':\n",
        "                    height += 1\n",
        "            heights.append(height)\n",
        "    return heights\n",
        "\n",
        "def can_fit(lock_heights, key_heights):\n",
        "    # Check if any column overlaps\n",
        "    # Available space is len(schematic) - 1\n",
        "    max_height = 7  # Based on input format\n",
        "    for lock_h, key_h in zip(lock_heights, key_heights):\n",
        "        if lock_h + key_h > max_height:\n",
        "            return False\n",
        "    return True\n",
        "\n",
        "def solve_lock_key_pairs(input_text):\n",
        "    # Split input into blocks separated by empty lines\n",
        "    blocks = input_text.strip().split('\\n\\n')\n",
        "\n",
        "    locks = []\n",
        "    keys = []\n",
        "\n",
        "    # Parse each block\n",
        "    for block in blocks:\n",
        "        lines = block.strip().split('\\n')\n",
        "        # If top row is filled, it's a lock\n",
        "        if lines[0].count('#') > 0:\n",
        "            locks.append(parse_schematic(lines))\n",
        "        # If bottom row is filled, it's a key\n",
        "        elif lines[-1].count('#') > 0:\n",
        "            keys.append(parse_schematic(lines))\n",
        "\n",
        "    # Count fitting pairs\n",
        "    fitting_pairs = 0\n",
        "    for lock in locks:\n",
        "        for key in keys:\n",
        "            if can_fit(lock, key):\n",
        "                fitting_pairs += 1\n",
        "\n",
        "    return fitting_pairs\n",
        "\n",
        "# Read input from file\n",
        "with open('input.txt', 'r') as file:\n",
        "    input_text = file.read()\n",
        "\n",
        "result = solve_lock_key_pairs(input_text)\n",
        "print(f\"Number of unique lock/key pairs that fit: {result}\")"
      ]
    }
  ]
}