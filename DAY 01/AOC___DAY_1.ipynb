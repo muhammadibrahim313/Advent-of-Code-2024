{
 "cells": [
  {
   "cell_type": "markdown",
   "metadata": {},
   "source": [
    "![Day1](https://github.com/muhammadibrahim313/Advent-of-Code-2024/blob/main/assets%20and%20images/a-minimalist-logo-for-advent-of-code-2024-day-1-wi-HLDaw5WVR4KxKLw3AgcE1w-N9n9WXcKTSWVzGFel9Y4pQ.jpeg?raw=true)  "
   ]
  },
  {
   "cell_type": "markdown",
   "metadata": {
    "id": "nGl2nCASgT0p"
   },
   "source": [
    "# **Part | 1**"
   ]
  },
  {
   "cell_type": "code",
   "execution_count": null,
   "metadata": {
    "colab": {
     "base_uri": "https://localhost:8080/"
    },
    "id": "buV64AMWKhBC",
    "outputId": "2fd43818-9761-47bc-de1b-3c7f21b35ca1"
   },
   "outputs": [],
   "source": [
    "def get_ans(data):\n",
    "    left_list = []\n",
    "    right_list = []\n",
    "    # Splitting input into left and right lists\n",
    "    print(\"data:\",data)\n",
    "    print(len(data[0]))\n",
    "    n = len(data[0])\n",
    "    for i in range(n):\n",
    "        if i % 2 == 0:\n",
    "          left_list.append(data[0][i])\n",
    "        else:  # First column\n",
    "          right_list.append(data[0][i])  # Second column\n",
    "    # Calculating the absolute difference between corresponding elements\n",
    "    ans = 0\n",
    "    print(\"left:\",left_list)\n",
    "    print(\"right:\",right_list)\n",
    "    left_list =sorted(left_list)\n",
    "    right_list.sort()\n",
    "    for left, right in zip(left_list, right_list):\n",
    "        ans=ans+(abs(left - right))\n",
    "    return ans\n",
    "# Accepting multiline input and processing into a list of tuples\n",
    "input_data = input(\"Enter the data (two space-separated numbers per line):\\n\")\n",
    "data = [list(map(int, line.split())) for line in input_data.splitlines()]\n",
    "\n",
    "# Calling the function and printing the result\n",
    "print(\"Absolute Differences:\", get_ans(data))\n"
   ]
  },
  {
   "cell_type": "markdown",
   "metadata": {
    "id": "Oc6p6eALgbez"
   },
   "source": [
    "# **part | 2**"
   ]
  },
  {
   "cell_type": "code",
   "execution_count": null,
   "metadata": {
    "colab": {
     "base_uri": "https://localhost:8080/"
    },
    "id": "y2getQS0LDJC",
    "outputId": "784c89ab-5353-4ce9-819c-2d89fb20259f"
   },
   "outputs": [],
   "source": [
    "def get_ans(data):\n",
    "    left_list = []\n",
    "    right_list = []\n",
    "    # Splitting input into left and right lists\n",
    "    print(\"data:\",data)\n",
    "    print(len(data[0]))\n",
    "    n = len(data[0])\n",
    "    for i in range(n):\n",
    "        if i % 2 == 0:\n",
    "          left_list.append(data[0][i])\n",
    "        else:  # First column\n",
    "          right_list.append(data[0][i])  # Second column\n",
    "    # Calculating the absolute difference between corresponding elements\n",
    "    ans = 0\n",
    "    print(\"left:\",left_list)\n",
    "    print(\"right:\",right_list)\n",
    "\n",
    "    for left in left_list:\n",
    "        right = right_list.count(left)\n",
    "        ans = ans + (left*right)\n",
    "\n",
    "    return ans\n",
    "# Accepting multiline input and processing into a list of tuples\n",
    "input_data = input(\"Enter the data (two space-separated numbers per line):\\n\")\n",
    "data = [list(map(int, line.split())) for line in input_data.splitlines()]\n",
    "\n",
    "# Calling the function and printing the result\n",
    "print(\"Absolute Differences:\", get_ans(data))\n"
   ]
  }
 ],
 "metadata": {
  "colab": {
   "provenance": []
  },
  "kernelspec": {
   "display_name": "Python 3",
   "name": "python3"
  }
 },
 "nbformat": 4,
 "nbformat_minor": 0
}
