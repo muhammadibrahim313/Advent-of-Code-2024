{
  "cells": [
    {
      "cell_type": "markdown",
      "source": [
        "# Bridge Repair Calibration Problem\n",
        "\n",
        "## Problem Statement\n",
        "\n",
        "You are tasked with helping a group of engineers calibrate a bridge by solving equations. Each equation consists of a test value and a series of numbers. To solve the problem:\n",
        "\n",
        "1. Determine if the test value can be produced by inserting operators (`+`, `*`, or `||`) between the numbers.\n",
        "2. The operators are evaluated **left-to-right**, disregarding operator precedence rules.\n",
        "3. The `||` operator concatenates numbers (e.g., `12 || 345` results in `12345`).\n",
        "4. The goal is to find all equations that can be made valid and compute the total calibration result, which is the sum of the test values from all valid equations.\n",
        "\n",
        "For example, given the equation `190: 10 19`, the test value `190` can be achieved with `10 * 19`. Similarly, using concatenation, `156: 15 6` is valid as `15 || 6 = 156`.\n",
        "\n",
        "---\n",
        "\n",
        "## Approach\n",
        "\n",
        "### 1. **Input Parsing**\n",
        "- Each line of input contains a test value followed by a series of numbers. These are parsed into test cases for evaluation.\n",
        "\n",
        "### 2. **Operator Insertion**\n",
        "- All possible combinations of operators (`+`, `*`, `||`) are inserted between the numbers using a brute-force approach.\n",
        "\n",
        "### 3. **Left-to-Right Evaluation**\n",
        "- The resulting expressions are evaluated strictly from left to right, ensuring the absence of precedence rules.\n",
        "\n",
        "### 4. **Validation**\n",
        "- For each equation, check if any operator combination can produce the test value. If so, the equation is considered valid.\n",
        "\n",
        "### 5. **Total Calibration Result**\n",
        "- The test values of all valid equations are summed to produce the final result.\n",
        "\n",
        "---\n",
        "\n",
        "## Key Concepts and Challenges\n",
        "\n",
        "- **Operator Concatenation (`||`)**: Introduced complexity by creating a new operator that concatenates numbers.\n",
        "- **Brute-Force Approach**: All combinations of operators were tested, making the solution computationally intensive for large inputs.\n",
        "- **Left-to-Right Evaluation**: Simplified evaluation but required careful implementation to handle precedence deviations.\n",
        "\n",
        "---\n"
      ],
      "metadata": {
        "id": "HiKXui6QlhIc"
      }
    },
    {
      "cell_type": "code",
      "source": [
        "import itertools\n",
        "\n",
        "# Function to evaluate the expression left-to-right\n",
        "def evaluate_expression(numbers, operators):\n",
        "    result = numbers[0]\n",
        "    for i, op in enumerate(operators):\n",
        "        if op == '+':\n",
        "            result += numbers[i + 1]\n",
        "        elif op == '*':\n",
        "            result *= numbers[i + 1]\n",
        "    return result\n",
        "\n",
        "# Function to determine if test value can be achieved\n",
        "def is_valid_equation(test_value, numbers):\n",
        "    n = len(numbers) - 1  # Number of operator positions\n",
        "    valid = False\n",
        "    for ops in itertools.product(\"+-*\", repeat=n):\n",
        "        if evaluate_expression(numbers, ops) == test_value:\n",
        "            valid = True\n",
        "            break\n",
        "    return valid\n",
        "\n",
        "# Read and process the input file\n",
        "def process_calibration_file(filename):\n",
        "    total_calibration_result = 0\n",
        "    with open(filename, 'r') as file:\n",
        "        for line in file:\n",
        "            # Parse the line\n",
        "            parts = line.strip().split(':')\n",
        "            test_value = int(parts[0].strip())\n",
        "            numbers = list(map(int, parts[1].strip().split()))\n",
        "\n",
        "            # Check if the equation is valid\n",
        "            if is_valid_equation(test_value, numbers):\n",
        "                total_calibration_result += test_value\n",
        "\n",
        "    return total_calibration_result\n",
        "\n",
        "# Main function\n",
        "def main():\n",
        "    filename = \"data.txt\"  # Replace with your data file path\n",
        "    result = process_calibration_file(filename)\n",
        "    print(f\"The total calibration result is: {result}\")\n",
        "\n",
        "# Run the main function\n",
        "main()\n"
      ],
      "metadata": {
        "colab": {
          "base_uri": "https://localhost:8080/"
        },
        "id": "6cXLgvjgaeOm",
        "outputId": "50fd6e38-4515-467f-cfd7-55494170b966"
      },
      "execution_count": 1,
      "outputs": [
        {
          "output_type": "stream",
          "name": "stdout",
          "text": [
            "The total calibration result is: 42283209483350\n"
          ]
        }
      ]
    },
    {
      "cell_type": "markdown",
      "source": [
        "# Bridge Repair Calibration - Part Two\n",
        "\n",
        "## Problem Statement\n",
        "\n",
        "In the second part of the problem, the engineers face a new issue: in addition to the `+` (addition) and `*` (multiplication) operators, there is now a new operator called `||` (concatenation) which combines numbers into a single value. This means the equations can now include three types of operations:\n",
        "\n",
        "1. **Addition (`+`)**\n",
        "2. **Multiplication (`*`)**\n",
        "3. **Concatenation (`||`)**: This operator combines two numbers into one by joining their digits together (e.g., `12 || 34` results in `1234`).\n",
        "\n",
        "The goal remains the same: you need to determine if the test value on the left side of the equation can be achieved by inserting any combination of the three operators (`+`, `*`, `||`) between the numbers. The result should be the sum of all test values that can be achieved by valid operator combinations.\n",
        "\n",
        "### Changes from Part One\n",
        "\n",
        "- **Concatenation (`||`)**: This new operator introduces an additional layer of complexity, as the numbers must be treated as strings to concatenate them, and then the resulting concatenated number must be evaluated.\n",
        "- **Evaluating Expressions**: The expressions must be evaluated left-to-right with this new operator, making it necessary to account for the concatenation behavior when calculating the result.\n",
        "\n",
        "### Example\n",
        "\n",
        "For example, in the equation `156: 15 6`, the test value `156` can be achieved by concatenating `15` and `6` using the `||` operator. The equation becomes `15 || 6 = 156`.\n",
        "\n",
        "Another example: `7290: 6 8 6 15` can be made true using the operators `6 * 8 || 6 * 15`.\n",
        "\n",
        "---\n",
        "\n",
        "## Approach\n",
        "\n",
        "### 1. **Input Parsing**\n",
        "- Similar to Part One, the input is parsed into test values and their corresponding numbers.\n",
        "\n",
        "### 2. **Operator Combinations**\n",
        "- Instead of just `+` and `*`, now `+`, `*`, and `||` are tested in all possible combinations between the numbers.\n",
        "\n",
        "### 3. **Concatenation Handling**\n",
        "- The `||` operator is handled by converting numbers into strings, concatenating them, and then converting the result back into an integer for evaluation.\n",
        "\n",
        "### 4. **Left-to-Right Evaluation**\n",
        "- Like in Part One, expressions are evaluated from left to right, but now with three operators to consider.\n",
        "\n",
        "### 5. **Validation**\n",
        "- For each equation, check if any combination of operators produces the test value. If valid, add the test value to the final result.\n",
        "\n",
        "### 6. **Final Calibration Result**\n",
        "- The total calibration result is the sum of the test values for all valid equations.\n",
        "\n",
        "---\n",
        "\n"
      ],
      "metadata": {
        "id": "WFenCa8oliLq"
      }
    },
    {
      "cell_type": "code",
      "source": [
        "from itertools import product\n",
        "\n",
        "def parse_input(file_path):\n",
        "    \"\"\"Parse the input file and return a list of test cases.\"\"\"\n",
        "    equations = []\n",
        "    with open(file_path, 'r') as file:\n",
        "        lines = file.read().strip().splitlines()\n",
        "        for line in lines:\n",
        "            if line.strip() == \"\":\n",
        "                continue\n",
        "            test_value, numbers = line.split(\":\")\n",
        "            test_value = int(test_value.strip())\n",
        "            numbers = list(map(int, numbers.strip().split()))\n",
        "            equations.append((test_value, numbers))\n",
        "    return equations\n",
        "\n",
        "def concatenate(a, b):\n",
        "    \"\"\"Concatenate two numbers as per the || operator.\"\"\"\n",
        "    return int(str(a) + str(b))\n",
        "\n",
        "def evaluate_expression(numbers, operators):\n",
        "    \"\"\"Evaluate the expression with the given numbers and operators.\"\"\"\n",
        "    result = numbers[0]\n",
        "    for i, operator in enumerate(operators):\n",
        "        if operator == '+':\n",
        "            result += numbers[i + 1]\n",
        "        elif operator == '*':\n",
        "            result *= numbers[i + 1]\n",
        "        elif operator == '||':\n",
        "            result = concatenate(result, numbers[i + 1])\n",
        "    return result\n",
        "\n",
        "def is_solvable(test_value, numbers):\n",
        "    \"\"\"Check if the test value can be achieved by inserting operators.\"\"\"\n",
        "    num_positions = len(numbers) - 1  # Number of operator positions\n",
        "    operator_combinations = product(['+', '*', '||'], repeat=num_positions)\n",
        "\n",
        "    for operators in operator_combinations:\n",
        "        if evaluate_expression(numbers, operators) == test_value:\n",
        "            return True\n",
        "    return False\n",
        "\n",
        "def total_calibration_result(file_path):\n",
        "    \"\"\"Calculate the total calibration result for all solvable equations.\"\"\"\n",
        "    equations = parse_input(file_path)\n",
        "    total = 0\n",
        "\n",
        "    for test_value, numbers in equations:\n",
        "        if is_solvable(test_value, numbers):\n",
        "            total += test_value\n",
        "\n",
        "    return total\n",
        "\n",
        "# Example usage\n",
        "file_path = \"data.txt\"\n",
        "result = total_calibration_result(file_path)\n",
        "print(\"Total Calibration Result:\", result)"
      ],
      "metadata": {
        "colab": {
          "base_uri": "https://localhost:8080/"
        },
        "id": "J4_KbIFRf4_D",
        "outputId": "38e4c779-6b50-4b2f-d6d3-3b360bd84620"
      },
      "execution_count": 8,
      "outputs": [
        {
          "output_type": "stream",
          "name": "stdout",
          "text": [
            "Total Calibration Result: 1026766857276279\n"
          ]
        }
      ]
    },
    {
      "cell_type": "markdown",
      "source": [
        "\n",
        "---\n",
        "\n",
        "## Key Concepts and Challenges\n",
        "\n",
        "- **Concatenation (`||`)**: The introduction of the `||` operator adds complexity by changing how numbers are combined.\n",
        "- **Operator Evaluation**: The need to evaluate expressions strictly left-to-right without operator precedence makes the solution more straightforward, but requires careful management of operator positions.\n",
        "- **Brute-Force Approach**: Testing all combinations of the three operators still remains computationally expensive for large input sizes.\n",
        "\n",
        "---\n",
        "\n",
        "## Summary\n",
        "\n",
        "In Part Two of this problem, the challenge was expanded with the addition of the concatenation operator `||`, making it a bit more complex. The solution involves testing all combinations of operators and ensuring that concatenation is handled properly within the left-to-right evaluation rule. This problem tests your ability to manipulate and evaluate mathematical expressions with non-standard operators and work with computational efficiency when evaluating large sets of potential operator combinations.\n"
      ],
      "metadata": {
        "id": "D-rzTc1krEhK"
      }
    }
  ],
  "metadata": {
    "colab": {
      "name": "Welcome to Colaboratory",
      "provenance": []
    },
    "kernelspec": {
      "display_name": "Python 3",
      "name": "python3"
    }
  },
  "nbformat": 4,
  "nbformat_minor": 0
}