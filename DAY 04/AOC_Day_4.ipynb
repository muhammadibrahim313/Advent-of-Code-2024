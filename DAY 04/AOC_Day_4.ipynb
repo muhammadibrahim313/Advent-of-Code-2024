{
 "cells": [
  {
   "cell_type": "markdown",
   "metadata": {},
   "source": [
    "# **Day 4: Ceres Search**\n",
    "## Problem Statement\n",
    "In Part 1 of challenge, i need to find all occurrences of the word \"XMAS\" in a 2D grid of letters.\n",
    "\n",
    "## Intuition and Strategy\n",
    "The core strategy involves:\n",
    "1. Systematically checking every cell in the grid\n",
    "2. Exploring 8 possible search directions from each cell\n",
    "3. Validating the complete \"XMAS\" word formation\n",
    "4. Counting total valid formations without removing previous matches\n",
    "\n",
    "## Code Explanation\n",
    "### Key Components\n",
    "- `count_xmas_occurrences()`: Main function to count \"XMAS\" occurrences\n",
    "- `search_direction()`: Validates word formation in a specific direction\n",
    "- Supports searching in 8 different directions:\n",
    "  - Horizontal (left and right)\n",
    "  - Vertical (up and down)\n",
    "  - 4 Diagonal directions\n",
    "\n",
    "### Detailed Approach\n",
    "1. Create a grid from input file\n",
    "2. Iterate through each cell in the grid\n",
    "3. Check all 8 possible directions from the current cell\n",
    "4. If \"XMAS\" is found in a direction, increment the count\n",
    "5. Return the total number of occurrences\n",
    "\n",
    "### Time Complexity\n",
    "- O(rows * cols * directions * word_length)\n",
    "- Thoroughly checks every possible formation\n",
    "\n",
    "## Implementation Notes\n",
    "- Handles grid boundary conditions\n",
    "- Supports flexible word search\n",
    "- Counts overlapping occurrences\n",
    "- Simple and straightforward implementation\n",
    "\n"
   ]
  },
  {
   "cell_type": "code",
   "execution_count": null,
   "metadata": {
    "colab": {
     "base_uri": "https://localhost:8080/"
    },
    "id": "A1CHdYFEOzma",
    "outputId": "17fa75a2-1163-423f-8eb3-487251e8f47a"
   },
   "outputs": [
    {
     "name": "stdout",
     "output_type": "stream",
     "text": [
      "2547\n"
     ]
    }
   ],
   "source": [
    "def count_xmas_occurrences(grid, word=\"XMAS\"):\n",
    "    rows, cols = len(grid), len(grid[0])\n",
    "    word_len = len(word)\n",
    "    directions = [\n",
    "        (0, 1),   # Right\n",
    "        (0, -1),  # Left\n",
    "        (1, 0),   # Down\n",
    "        (-1, 0),  # Up\n",
    "        (1, 1),   # Down-Right\n",
    "        (-1, -1), # Up-Left\n",
    "        (1, -1),  # Down-Left\n",
    "        (-1, 1)   # Up-Right\n",
    "    ]\n",
    "    count = 0\n",
    "\n",
    "    # Function to check if a word exists in a specific direction\n",
    "    def search_direction(r, c, dr, dc):\n",
    "        for i in range(word_len):\n",
    "            nr, nc = r + i * dr, c + i * dc\n",
    "            if nr < 0 or nr >= rows or nc < 0 or nc >= cols or grid[nr][nc] != word[i]:\n",
    "                return False\n",
    "        return True\n",
    "\n",
    "    # Traverse each cell in the grid\n",
    "    for r in range(rows):\n",
    "        for c in range(cols):\n",
    "            # Check all directions from the current cell\n",
    "            for dr, dc in directions:\n",
    "                if search_direction(r, c, dr, dc):\n",
    "                    count += 1\n",
    "\n",
    "    return count\n",
    "\n",
    "\n",
    "# Read the input grid from a file (make sure to replace 'data.txt' with your actual file name) or set path \n",
    "with open('data.txt', 'r') as file:\n",
    "    grid = [line.strip() for line in file.readlines()]\n",
    "\n",
    "# Find and print the number of occurrences of \"XMAS\"\n",
    "result = count_xmas_occurrences(grid)\n",
    "print(result)\n"
   ]
  },
  {
   "cell_type": "markdown",
   "metadata": {},
   "source": [
    "# **Part 2**"
   ]
  },
  {
   "cell_type": "markdown",
   "metadata": {},
   "source": [
    "\n",
    "## Problem Statement\n",
    "Part 2 introduces a more complex word search:\n",
    "- Find patterns of \"X-MAS\" where two \"MAS\" formations create an X shape\n",
    "- The center of the X must be an 'A'\n",
    "- MAS can be formed in forward or reverse order\n",
    "- Diagonal MAS formations are key to finding the pattern\n",
    "\n",
    "## Intuition and Strategy\n",
    "The core strategy involves:\n",
    "1. Identifying cells with 'A' as the center point\n",
    "2. Checking diagonal formations of MAS\n",
    "3. Verifying both forward and reverse MAS orientations\n",
    "4. Ensuring the pattern forms a complete X shape\n",
    "\n",
    "## Code Explanation\n",
    "### Key Components\n",
    "- `count_x_mas_patterns()`: Main function to find X-MAS patterns\n",
    "- `check_diagonal()`: Validates MAS diagonal formations\n",
    "- Supports two types of MAS formations:\n",
    "  - Forward: M-A-S\n",
    "  - Reverse: S-A-M\n",
    "\n",
    "### Detailed Approach\n",
    "1. Iterate through grid, focusing on interior cells\n",
    "2. Identify cells with 'A' as the center\n",
    "3. Check diagonal directions for MAS formations\n",
    "4. Verify both top-left/bottom-right and top-right/bottom-left diagonals\n",
    "5. Count valid X-MAS patterns\n",
    "\n",
    "### Pattern Validation Rules\n",
    "- Must have 'A' at the center\n",
    "- Two diagonal MAS formations\n",
    "- Support both forward and reverse orientations\n",
    "- Constrained by grid boundaries\n",
    "\n",
    "\n",
    "\n",
    "## Implementation Notes\n",
    "- Handles grid boundary conditions\n",
    "- Flexible pattern matching\n",
    "- Minimal additional memory usage\n",
    "- Supports complex diagonal pattern recognition\n",
    "\n"
   ]
  },
  {
   "cell_type": "code",
   "execution_count": 2,
   "metadata": {
    "colab": {
     "base_uri": "https://localhost:8080/"
    },
    "id": "hcgZaRk0PEGG",
    "outputId": "3bdd6b33-b0ae-4f04-aea9-37f8ba755e24"
   },
   "outputs": [
    {
     "name": "stdout",
     "output_type": "stream",
     "text": [
      "1939\n"
     ]
    }
   ],
   "source": [
    "def count_x_mas_patterns(grid):\n",
    "    rows, cols = len(grid), len(grid[0])\n",
    "    count = 0\n",
    "\n",
    "    # Helper function to check if a diagonal matches MAS\n",
    "    def check_diagonal(r, c, dr1, dc1, dr2, dc2):\n",
    "        try:\n",
    "            # Check one MAS diagonal (M-S) and the reverse (S-M)\n",
    "            if (grid[r + dr1][c + dc1] == 'M' and\n",
    "                grid[r][c] == 'A' and\n",
    "                grid[r + dr2][c + dc2] == 'S'):\n",
    "                return True\n",
    "            if (grid[r + dr1][c + dc1] == 'S' and\n",
    "                grid[r][c] == 'A' and\n",
    "                grid[r + dr2][c + dc2] == 'M'):\n",
    "                return True\n",
    "        except IndexError:\n",
    "            pass\n",
    "        return False\n",
    "\n",
    "    # Traverse the grid to find the center of the X\n",
    "    for r in range(1, rows - 1):\n",
    "        for c in range(1, cols - 1):\n",
    "            # Check for the center 'A'\n",
    "            if grid[r][c] == 'A':\n",
    "                # Check for the top-left and bottom-right MAS\n",
    "                if (check_diagonal(r, c, -1, -1, 1, 1) and\n",
    "                    check_diagonal(r, c, -1, 1, 1, -1)):\n",
    "                    count += 1\n",
    "\n",
    "    return count\n",
    "\n",
    "\n",
    "# Read the input grid from a file\n",
    "with open('data.txt', 'r') as file:\n",
    "    grid = [line.strip() for line in file.readlines()]\n",
    "\n",
    "# Find and print the number of X-MAS patterns\n",
    "result = count_x_mas_patterns(grid)\n",
    "print(result)\n"
   ]
  }
 ],
 "metadata": {
  "colab": {
   "provenance": []
  },
  "kernelspec": {
   "display_name": "Python 3",
   "name": "python3"
  },
  "language_info": {
   "name": "python"
  }
 },
 "nbformat": 4,
 "nbformat_minor": 0
}
